{
 "cells": [
  {
   "cell_type": "markdown",
   "id": "825b2901",
   "metadata": {},
   "source": [
    "# Activity 3.2 – Recoding and Aggregating a Health Care Survey\n",
    "\n",
    "## Part 1 – Three ways to recode\n",
    "\n",
    "Before we get the the main event, let’s practice recoding the survey\n",
    "data in three ways. In all cases, our goal is to assign a score of `5` to\n",
    "`\"Strongly Agree\"` down to a score of `1` to `\"Strongly Disagree\"`.\n",
    "\n",
    "| Old Label                    | Regular Coded Value |\n",
    "|------------------------------|---------------------|\n",
    "| `\"Strongly Disagree\"`          | 1                   |\n",
    "| `\"Somewhat Disagree\"`          | 2                   |\n",
    "| `\"Neither Agree nor Disagree\"` | 3                   |\n",
    "| `\"Somewhat Agree\"`             | 4                   |\n",
    "| `\"Strongly Agree\"`             | 5                   |\n",
    "\n",
    "**Preparation.** Recall that the `more_dfply.recode` function allows us to\n",
    "recode a column using a `dict`."
   ]
  },
  {
   "cell_type": "markdown",
   "id": "3b2b70c6",
   "metadata": {},
   "source": [
    "1.  Load the health survey data found in the data folder.  Inspect the column names, then fix the issues with the `\".\"`s.  **Hint.** We can use `dfply.rename` with the `dict` unpacking trick."
   ]
  },
  {
   "cell_type": "code",
   "execution_count": 5,
   "id": "23521352",
   "metadata": {},
   "outputs": [],
   "source": [
    "# Your code here\n",
    "import pandas as pd\n",
    "from dfply import *\n",
    "from more_dfply import *\n",
    "health = pd.read_csv('data/health_survey.csv')"
   ]
  },
  {
   "cell_type": "code",
   "execution_count": 6,
   "id": "e3b41c5c",
   "metadata": {},
   "outputs": [
    {
     "data": {
      "text/html": [
       "<div>\n",
       "<style scoped>\n",
       "    .dataframe tbody tr th:only-of-type {\n",
       "        vertical-align: middle;\n",
       "    }\n",
       "\n",
       "    .dataframe tbody tr th {\n",
       "        vertical-align: top;\n",
       "    }\n",
       "\n",
       "    .dataframe thead th {\n",
       "        text-align: right;\n",
       "    }\n",
       "</style>\n",
       "<table border=\"1\" class=\"dataframe\">\n",
       "  <thead>\n",
       "    <tr style=\"text-align: right;\">\n",
       "      <th></th>\n",
       "      <th>ID</th>\n",
       "      <th>F1</th>\n",
       "      <th>F5</th>\n",
       "      <th>F2</th>\n",
       "      <th>F1.1</th>\n",
       "      <th>F2.1</th>\n",
       "      <th>F6</th>\n",
       "      <th>F4</th>\n",
       "      <th>F3</th>\n",
       "      <th>F5.1</th>\n",
       "      <th>...</th>\n",
       "      <th>F2.9</th>\n",
       "      <th>F3.4</th>\n",
       "      <th>F4.3</th>\n",
       "      <th>F2.10</th>\n",
       "      <th>F1.7</th>\n",
       "      <th>F6.4</th>\n",
       "      <th>F4.4</th>\n",
       "      <th>F5.7</th>\n",
       "      <th>F3.5</th>\n",
       "      <th>F2.11</th>\n",
       "    </tr>\n",
       "  </thead>\n",
       "  <tbody>\n",
       "    <tr>\n",
       "      <th>0</th>\n",
       "      <td>1</td>\n",
       "      <td>Somewhat Agree</td>\n",
       "      <td>Somewhat Disagree</td>\n",
       "      <td>Somewhat Agree</td>\n",
       "      <td>Somewhat Agree</td>\n",
       "      <td>Somewhat Agree</td>\n",
       "      <td>Somewhat Disagree</td>\n",
       "      <td>Somewhat Agree</td>\n",
       "      <td>Somewhat Agree</td>\n",
       "      <td>Somewhat Agree</td>\n",
       "      <td>...</td>\n",
       "      <td>Somewhat Agree</td>\n",
       "      <td>Somewhat Disagree</td>\n",
       "      <td>Neither Agree nor Disagree</td>\n",
       "      <td>Somewhat Agree</td>\n",
       "      <td>Somewhat Agree</td>\n",
       "      <td>Somewhat Agree</td>\n",
       "      <td>Somewhat Agree</td>\n",
       "      <td>Somewhat Agree</td>\n",
       "      <td>Somewhat Agree</td>\n",
       "      <td>Somewhat Agree</td>\n",
       "    </tr>\n",
       "    <tr>\n",
       "      <th>1</th>\n",
       "      <td>2</td>\n",
       "      <td>Somewhat Agree</td>\n",
       "      <td>Somewhat Disagree</td>\n",
       "      <td>Somewhat Agree</td>\n",
       "      <td>Somewhat Agree</td>\n",
       "      <td>Somewhat Agree</td>\n",
       "      <td>Somewhat Disagree</td>\n",
       "      <td>Somewhat Agree</td>\n",
       "      <td>Neither Agree nor Disagree</td>\n",
       "      <td>Neither Agree nor Disagree</td>\n",
       "      <td>...</td>\n",
       "      <td>Somewhat Agree</td>\n",
       "      <td>Somewhat Agree</td>\n",
       "      <td>Neither Agree nor Disagree</td>\n",
       "      <td>Somewhat Agree</td>\n",
       "      <td>Somewhat Agree</td>\n",
       "      <td>Somewhat Disagree</td>\n",
       "      <td>Neither Agree nor Disagree</td>\n",
       "      <td>Somewhat Agree</td>\n",
       "      <td>Neither Agree nor Disagree</td>\n",
       "      <td>Somewhat Agree</td>\n",
       "    </tr>\n",
       "    <tr>\n",
       "      <th>2</th>\n",
       "      <td>3</td>\n",
       "      <td>Strongly Agree</td>\n",
       "      <td>Neither Agree nor Disagree</td>\n",
       "      <td>Somewhat Agree</td>\n",
       "      <td>Strongly Agree</td>\n",
       "      <td>Strongly Agree</td>\n",
       "      <td>Somewhat Disagree</td>\n",
       "      <td>Somewhat Agree</td>\n",
       "      <td>Somewhat Agree</td>\n",
       "      <td>Somewhat Agree</td>\n",
       "      <td>...</td>\n",
       "      <td>Somewhat Agree</td>\n",
       "      <td>Somewhat Agree</td>\n",
       "      <td>Neither Agree nor Disagree</td>\n",
       "      <td>Somewhat Agree</td>\n",
       "      <td>Somewhat Agree</td>\n",
       "      <td>Somewhat Agree</td>\n",
       "      <td>Somewhat Agree</td>\n",
       "      <td>Strongly Agree</td>\n",
       "      <td>Strongly Disagree</td>\n",
       "      <td>Somewhat Agree</td>\n",
       "    </tr>\n",
       "    <tr>\n",
       "      <th>3</th>\n",
       "      <td>4</td>\n",
       "      <td>Somewhat Agree</td>\n",
       "      <td>Somewhat Agree</td>\n",
       "      <td>Strongly Agree</td>\n",
       "      <td>Somewhat Agree</td>\n",
       "      <td>Strongly Agree</td>\n",
       "      <td>Neither Agree nor Disagree</td>\n",
       "      <td>Neither Agree nor Disagree</td>\n",
       "      <td>Somewhat Disagree</td>\n",
       "      <td>Somewhat Agree</td>\n",
       "      <td>...</td>\n",
       "      <td>Somewhat Agree</td>\n",
       "      <td>Somewhat Disagree</td>\n",
       "      <td>Somewhat Agree</td>\n",
       "      <td>Somewhat Agree</td>\n",
       "      <td>Neither Agree nor Disagree</td>\n",
       "      <td>Neither Agree nor Disagree</td>\n",
       "      <td>Neither Agree nor Disagree</td>\n",
       "      <td>Somewhat Agree</td>\n",
       "      <td>Somewhat Disagree</td>\n",
       "      <td>Somewhat Agree</td>\n",
       "    </tr>\n",
       "    <tr>\n",
       "      <th>4</th>\n",
       "      <td>5</td>\n",
       "      <td>Strongly Agree</td>\n",
       "      <td>Strongly Disagree</td>\n",
       "      <td>Neither Agree nor Disagree</td>\n",
       "      <td>Strongly Agree</td>\n",
       "      <td>Somewhat Agree</td>\n",
       "      <td>Strongly Disagree</td>\n",
       "      <td>Strongly Agree</td>\n",
       "      <td>Somewhat Agree</td>\n",
       "      <td>Neither Agree nor Disagree</td>\n",
       "      <td>...</td>\n",
       "      <td>Somewhat Agree</td>\n",
       "      <td>Somewhat Agree</td>\n",
       "      <td>Neither Agree nor Disagree</td>\n",
       "      <td>Somewhat Agree</td>\n",
       "      <td>Somewhat Agree</td>\n",
       "      <td>Somewhat Agree</td>\n",
       "      <td>Somewhat Agree</td>\n",
       "      <td>Strongly Agree</td>\n",
       "      <td>Somewhat Disagree</td>\n",
       "      <td>Somewhat Agree</td>\n",
       "    </tr>\n",
       "  </tbody>\n",
       "</table>\n",
       "<p>5 rows × 45 columns</p>\n",
       "</div>"
      ],
      "text/plain": [
       "   ID              F1                          F5                          F2  \\\n",
       "0   1  Somewhat Agree           Somewhat Disagree              Somewhat Agree   \n",
       "1   2  Somewhat Agree           Somewhat Disagree              Somewhat Agree   \n",
       "2   3  Strongly Agree  Neither Agree nor Disagree              Somewhat Agree   \n",
       "3   4  Somewhat Agree              Somewhat Agree              Strongly Agree   \n",
       "4   5  Strongly Agree           Strongly Disagree  Neither Agree nor Disagree   \n",
       "\n",
       "             F1.1            F2.1                          F6  \\\n",
       "0  Somewhat Agree  Somewhat Agree           Somewhat Disagree   \n",
       "1  Somewhat Agree  Somewhat Agree           Somewhat Disagree   \n",
       "2  Strongly Agree  Strongly Agree           Somewhat Disagree   \n",
       "3  Somewhat Agree  Strongly Agree  Neither Agree nor Disagree   \n",
       "4  Strongly Agree  Somewhat Agree           Strongly Disagree   \n",
       "\n",
       "                           F4                          F3  \\\n",
       "0              Somewhat Agree              Somewhat Agree   \n",
       "1              Somewhat Agree  Neither Agree nor Disagree   \n",
       "2              Somewhat Agree              Somewhat Agree   \n",
       "3  Neither Agree nor Disagree           Somewhat Disagree   \n",
       "4              Strongly Agree              Somewhat Agree   \n",
       "\n",
       "                         F5.1  ...            F2.9               F3.4  \\\n",
       "0              Somewhat Agree  ...  Somewhat Agree  Somewhat Disagree   \n",
       "1  Neither Agree nor Disagree  ...  Somewhat Agree     Somewhat Agree   \n",
       "2              Somewhat Agree  ...  Somewhat Agree     Somewhat Agree   \n",
       "3              Somewhat Agree  ...  Somewhat Agree  Somewhat Disagree   \n",
       "4  Neither Agree nor Disagree  ...  Somewhat Agree     Somewhat Agree   \n",
       "\n",
       "                         F4.3           F2.10                        F1.7  \\\n",
       "0  Neither Agree nor Disagree  Somewhat Agree              Somewhat Agree   \n",
       "1  Neither Agree nor Disagree  Somewhat Agree              Somewhat Agree   \n",
       "2  Neither Agree nor Disagree  Somewhat Agree              Somewhat Agree   \n",
       "3              Somewhat Agree  Somewhat Agree  Neither Agree nor Disagree   \n",
       "4  Neither Agree nor Disagree  Somewhat Agree              Somewhat Agree   \n",
       "\n",
       "                         F6.4                        F4.4            F5.7  \\\n",
       "0              Somewhat Agree              Somewhat Agree  Somewhat Agree   \n",
       "1           Somewhat Disagree  Neither Agree nor Disagree  Somewhat Agree   \n",
       "2              Somewhat Agree              Somewhat Agree  Strongly Agree   \n",
       "3  Neither Agree nor Disagree  Neither Agree nor Disagree  Somewhat Agree   \n",
       "4              Somewhat Agree              Somewhat Agree  Strongly Agree   \n",
       "\n",
       "                         F3.5           F2.11  \n",
       "0              Somewhat Agree  Somewhat Agree  \n",
       "1  Neither Agree nor Disagree  Somewhat Agree  \n",
       "2           Strongly Disagree  Somewhat Agree  \n",
       "3           Somewhat Disagree  Somewhat Agree  \n",
       "4           Somewhat Disagree  Somewhat Agree  \n",
       "\n",
       "[5 rows x 45 columns]"
      ]
     },
     "execution_count": 6,
     "metadata": {},
     "output_type": "execute_result"
    }
   ],
   "source": [
    "health.head()"
   ]
  },
  {
   "cell_type": "code",
   "execution_count": 10,
   "id": "320920ce",
   "metadata": {},
   "outputs": [
    {
     "data": {
      "text/plain": [
       "Index(['ID', 'F1', 'F5', 'F2', 'F1.1', 'F2.1', 'F6', 'F4', 'F3', 'F5.1',\n",
       "       'F1.2', 'F2.2', 'F6.1', 'F2.3', 'F4.1', 'F2.4', 'F5.2', 'F2.5', 'F6.2',\n",
       "       'F1.3', 'F2.6', 'F5.3', 'F4.2', 'F2.7', 'F3.1', 'F2.8', 'F5.4', 'F3.2',\n",
       "       'F1.4', 'F3.3', 'F1.5', 'F5.5', 'F6.3', 'F1.6', 'F5.6', 'F2.9', 'F3.4',\n",
       "       'F4.3', 'F2.10', 'F1.7', 'F6.4', 'F4.4', 'F5.7', 'F3.5', 'F2.11'],\n",
       "      dtype='object')"
      ]
     },
     "execution_count": 10,
     "metadata": {},
     "output_type": "execute_result"
    }
   ],
   "source": [
    "health.columns\n",
    "columns = contains(\".\").evaluate(health)\n"
   ]
  },
  {
   "cell_type": "code",
   "execution_count": 11,
   "id": "f5d2edbb",
   "metadata": {},
   "outputs": [
    {
     "data": {
      "text/plain": [
       "'F2_2'"
      ]
     },
     "execution_count": 11,
     "metadata": {},
     "output_type": "execute_result"
    }
   ],
   "source": [
    "c = 'F2.2'\n",
    "c.replace('.','_')"
   ]
  },
  {
   "cell_type": "code",
   "execution_count": 14,
   "id": "9ea915c9",
   "metadata": {},
   "outputs": [
    {
     "data": {
      "text/plain": [
       "{'ID': 'ID',\n",
       " 'F1': 'F1',\n",
       " 'F5': 'F5',\n",
       " 'F2': 'F2',\n",
       " 'F1_1': 'F1.1',\n",
       " 'F2_1': 'F2.1',\n",
       " 'F6': 'F6',\n",
       " 'F4': 'F4',\n",
       " 'F3': 'F3',\n",
       " 'F5_1': 'F5.1',\n",
       " 'F1_2': 'F1.2',\n",
       " 'F2_2': 'F2.2',\n",
       " 'F6_1': 'F6.1',\n",
       " 'F2_3': 'F2.3',\n",
       " 'F4_1': 'F4.1',\n",
       " 'F2_4': 'F2.4',\n",
       " 'F5_2': 'F5.2',\n",
       " 'F2_5': 'F2.5',\n",
       " 'F6_2': 'F6.2',\n",
       " 'F1_3': 'F1.3',\n",
       " 'F2_6': 'F2.6',\n",
       " 'F5_3': 'F5.3',\n",
       " 'F4_2': 'F4.2',\n",
       " 'F2_7': 'F2.7',\n",
       " 'F3_1': 'F3.1',\n",
       " 'F2_8': 'F2.8',\n",
       " 'F5_4': 'F5.4',\n",
       " 'F3_2': 'F3.2',\n",
       " 'F1_4': 'F1.4',\n",
       " 'F3_3': 'F3.3',\n",
       " 'F1_5': 'F1.5',\n",
       " 'F5_5': 'F5.5',\n",
       " 'F6_3': 'F6.3',\n",
       " 'F1_6': 'F1.6',\n",
       " 'F5_6': 'F5.6',\n",
       " 'F2_9': 'F2.9',\n",
       " 'F3_4': 'F3.4',\n",
       " 'F4_3': 'F4.3',\n",
       " 'F2_10': 'F2.10',\n",
       " 'F1_7': 'F1.7',\n",
       " 'F6_4': 'F6.4',\n",
       " 'F4_4': 'F4.4',\n",
       " 'F5_7': 'F5.7',\n",
       " 'F3_5': 'F3.5',\n",
       " 'F2_11': 'F2.11'}"
      ]
     },
     "execution_count": 14,
     "metadata": {},
     "output_type": "execute_result"
    }
   ],
   "source": [
    "new_names = {c.replace('.','_'):c for c in health.columns}\n",
    "new_names"
   ]
  },
  {
   "cell_type": "code",
   "execution_count": 15,
   "id": "d26e4f67",
   "metadata": {},
   "outputs": [
    {
     "data": {
      "text/html": [
       "<div>\n",
       "<style scoped>\n",
       "    .dataframe tbody tr th:only-of-type {\n",
       "        vertical-align: middle;\n",
       "    }\n",
       "\n",
       "    .dataframe tbody tr th {\n",
       "        vertical-align: top;\n",
       "    }\n",
       "\n",
       "    .dataframe thead th {\n",
       "        text-align: right;\n",
       "    }\n",
       "</style>\n",
       "<table border=\"1\" class=\"dataframe\">\n",
       "  <thead>\n",
       "    <tr style=\"text-align: right;\">\n",
       "      <th></th>\n",
       "      <th>ID</th>\n",
       "      <th>F1</th>\n",
       "      <th>F5</th>\n",
       "      <th>F2</th>\n",
       "      <th>F1_1</th>\n",
       "      <th>F2_1</th>\n",
       "      <th>F6</th>\n",
       "      <th>F4</th>\n",
       "      <th>F3</th>\n",
       "      <th>F5_1</th>\n",
       "      <th>...</th>\n",
       "      <th>F2_9</th>\n",
       "      <th>F3_4</th>\n",
       "      <th>F4_3</th>\n",
       "      <th>F2_10</th>\n",
       "      <th>F1_7</th>\n",
       "      <th>F6_4</th>\n",
       "      <th>F4_4</th>\n",
       "      <th>F5_7</th>\n",
       "      <th>F3_5</th>\n",
       "      <th>F2_11</th>\n",
       "    </tr>\n",
       "  </thead>\n",
       "  <tbody>\n",
       "    <tr>\n",
       "      <th>0</th>\n",
       "      <td>1</td>\n",
       "      <td>Somewhat Agree</td>\n",
       "      <td>Somewhat Disagree</td>\n",
       "      <td>Somewhat Agree</td>\n",
       "      <td>Somewhat Agree</td>\n",
       "      <td>Somewhat Agree</td>\n",
       "      <td>Somewhat Disagree</td>\n",
       "      <td>Somewhat Agree</td>\n",
       "      <td>Somewhat Agree</td>\n",
       "      <td>Somewhat Agree</td>\n",
       "      <td>...</td>\n",
       "      <td>Somewhat Agree</td>\n",
       "      <td>Somewhat Disagree</td>\n",
       "      <td>Neither Agree nor Disagree</td>\n",
       "      <td>Somewhat Agree</td>\n",
       "      <td>Somewhat Agree</td>\n",
       "      <td>Somewhat Agree</td>\n",
       "      <td>Somewhat Agree</td>\n",
       "      <td>Somewhat Agree</td>\n",
       "      <td>Somewhat Agree</td>\n",
       "      <td>Somewhat Agree</td>\n",
       "    </tr>\n",
       "    <tr>\n",
       "      <th>1</th>\n",
       "      <td>2</td>\n",
       "      <td>Somewhat Agree</td>\n",
       "      <td>Somewhat Disagree</td>\n",
       "      <td>Somewhat Agree</td>\n",
       "      <td>Somewhat Agree</td>\n",
       "      <td>Somewhat Agree</td>\n",
       "      <td>Somewhat Disagree</td>\n",
       "      <td>Somewhat Agree</td>\n",
       "      <td>Neither Agree nor Disagree</td>\n",
       "      <td>Neither Agree nor Disagree</td>\n",
       "      <td>...</td>\n",
       "      <td>Somewhat Agree</td>\n",
       "      <td>Somewhat Agree</td>\n",
       "      <td>Neither Agree nor Disagree</td>\n",
       "      <td>Somewhat Agree</td>\n",
       "      <td>Somewhat Agree</td>\n",
       "      <td>Somewhat Disagree</td>\n",
       "      <td>Neither Agree nor Disagree</td>\n",
       "      <td>Somewhat Agree</td>\n",
       "      <td>Neither Agree nor Disagree</td>\n",
       "      <td>Somewhat Agree</td>\n",
       "    </tr>\n",
       "  </tbody>\n",
       "</table>\n",
       "<p>2 rows × 45 columns</p>\n",
       "</div>"
      ],
      "text/plain": [
       "   ID              F1                 F5              F2            F1_1  \\\n",
       "0   1  Somewhat Agree  Somewhat Disagree  Somewhat Agree  Somewhat Agree   \n",
       "1   2  Somewhat Agree  Somewhat Disagree  Somewhat Agree  Somewhat Agree   \n",
       "\n",
       "             F2_1                 F6              F4  \\\n",
       "0  Somewhat Agree  Somewhat Disagree  Somewhat Agree   \n",
       "1  Somewhat Agree  Somewhat Disagree  Somewhat Agree   \n",
       "\n",
       "                           F3                        F5_1  ...  \\\n",
       "0              Somewhat Agree              Somewhat Agree  ...   \n",
       "1  Neither Agree nor Disagree  Neither Agree nor Disagree  ...   \n",
       "\n",
       "             F2_9               F3_4                        F4_3  \\\n",
       "0  Somewhat Agree  Somewhat Disagree  Neither Agree nor Disagree   \n",
       "1  Somewhat Agree     Somewhat Agree  Neither Agree nor Disagree   \n",
       "\n",
       "            F2_10            F1_7               F6_4  \\\n",
       "0  Somewhat Agree  Somewhat Agree     Somewhat Agree   \n",
       "1  Somewhat Agree  Somewhat Agree  Somewhat Disagree   \n",
       "\n",
       "                         F4_4            F5_7                        F3_5  \\\n",
       "0              Somewhat Agree  Somewhat Agree              Somewhat Agree   \n",
       "1  Neither Agree nor Disagree  Somewhat Agree  Neither Agree nor Disagree   \n",
       "\n",
       "            F2_11  \n",
       "0  Somewhat Agree  \n",
       "1  Somewhat Agree  \n",
       "\n",
       "[2 rows x 45 columns]"
      ]
     },
     "execution_count": 15,
     "metadata": {},
     "output_type": "execute_result"
    }
   ],
   "source": [
    "health = pd.read_csv('data/health_survey.csv') >> rename(**new_names)\n",
    "health.head(2)"
   ]
  },
  {
   "cell_type": "markdown",
   "id": "b62acdb2",
   "metadata": {},
   "source": [
    "2.  Use `unique` to verify the labels of various columns. Create a `dict` mapping each survey responses to the corresponding score."
   ]
  },
  {
   "cell_type": "code",
   "execution_count": 16,
   "id": "8d0efba2",
   "metadata": {},
   "outputs": [
    {
     "data": {
      "text/plain": [
       "array(['Somewhat Agree', 'Strongly Agree', 'Neither Agree nor Disagree',\n",
       "       'Somewhat Disagree', nan], dtype=object)"
      ]
     },
     "execution_count": 16,
     "metadata": {},
     "output_type": "execute_result"
    }
   ],
   "source": [
    "# Your code here\n",
    "health.F2.unique()"
   ]
  },
  {
   "cell_type": "code",
   "execution_count": 19,
   "id": "5150fbdd",
   "metadata": {},
   "outputs": [
    {
     "data": {
      "text/plain": [
       "{'Somewhat Agree': 4,\n",
       " 'Strongly Agree': 5,\n",
       " 'Neither Agree nor Disagree': 3,\n",
       " 'Somewhat Disagree': 2,\n",
       " 'Strongly Disagree': 1}"
      ]
     },
     "execution_count": 19,
     "metadata": {},
     "output_type": "execute_result"
    }
   ],
   "source": [
    "recode = {'Somewhat Agree': 4,\n",
    "          'Strongly Agree': 5, \n",
    "          'Neither Agree nor Disagree':3,\n",
    "          'Somewhat Disagree': 2,\n",
    "          'Strongly Disagree':1}\n",
    "recode"
   ]
  },
  {
   "cell_type": "markdown",
   "id": "767142e8",
   "metadata": {},
   "source": [
    "3.  Test your dictionary with the `map` method on one of the columns.  The columns `F2` and `F1.1` are good test cases."
   ]
  },
  {
   "cell_type": "code",
   "execution_count": 27,
   "id": "efb8e761",
   "metadata": {},
   "outputs": [
    {
     "data": {
      "text/plain": [
       "0    4\n",
       "1    4\n",
       "Name: F1, dtype: Int64"
      ]
     },
     "execution_count": 27,
     "metadata": {},
     "output_type": "execute_result"
    }
   ],
   "source": [
    "health.F1.map(recode).astype('Int64').head(2)"
   ]
  },
  {
   "cell_type": "code",
   "execution_count": 28,
   "id": "bd8dd49c",
   "metadata": {},
   "outputs": [
    {
     "data": {
      "text/plain": [
       "0    4\n",
       "1    4\n",
       "Name: F2, dtype: Int64"
      ]
     },
     "execution_count": 28,
     "metadata": {},
     "output_type": "execute_result"
    }
   ],
   "source": [
    "health.F2.map(recode).astype('Int64').head(2)"
   ]
  },
  {
   "cell_type": "code",
   "execution_count": 29,
   "id": "c9026f1c",
   "metadata": {},
   "outputs": [
    {
     "data": {
      "text/plain": [
       "0    4\n",
       "1    4\n",
       "Name: F1_1, dtype: Int64"
      ]
     },
     "execution_count": 29,
     "metadata": {},
     "output_type": "execute_result"
    }
   ],
   "source": [
    "c= 'F1_1'\n",
    "health[c].map(recode).astype('Int64').head(2)"
   ]
  },
  {
   "cell_type": "markdown",
   "id": "c64fead3",
   "metadata": {},
   "source": [
    "4. Explain why you should be using the `pandas` `Int64` data type here.  Details on the necessity and use of this data type can be found in [Lecture 2.4](https://github.com/wsu-stat489/module2_intro_to_pandas/blob/main/2_4_pandas_dtypes.ipynb)"
   ]
  },
  {
   "cell_type": "markdown",
   "id": "2a327e57",
   "metadata": {},
   "source": [
    "> To make all of the columns the same type."
   ]
  },
  {
   "cell_type": "markdown",
   "id": "b0ad440c",
   "metadata": {},
   "source": [
    "#### Method 1 – Brute Force. \n",
    "\n",
    "The naïve approach to applying our mapping\n",
    "is the construct a `mutate`, writing one line per column. This will become\n",
    "annoying."
   ]
  },
  {
   "cell_type": "markdown",
   "id": "7504ac51",
   "metadata": {},
   "source": [
    "1.  Create a pipe that uses `mutate` to transform at least 10 of the columns."
   ]
  },
  {
   "cell_type": "code",
   "execution_count": 30,
   "id": "91759dc2",
   "metadata": {},
   "outputs": [
    {
     "data": {
      "text/plain": [
       "Index(['ID', 'F1', 'F5', 'F2', 'F1_1', 'F2_1', 'F6', 'F4', 'F3', 'F5_1',\n",
       "       'F1_2', 'F2_2', 'F6_1', 'F2_3', 'F4_1', 'F2_4', 'F5_2', 'F2_5', 'F6_2',\n",
       "       'F1_3', 'F2_6', 'F5_3', 'F4_2', 'F2_7', 'F3_1', 'F2_8', 'F5_4', 'F3_2',\n",
       "       'F1_4', 'F3_3', 'F1_5', 'F5_5', 'F6_3', 'F1_6', 'F5_6', 'F2_9', 'F3_4',\n",
       "       'F4_3', 'F2_10', 'F1_7', 'F6_4', 'F4_4', 'F5_7', 'F3_5', 'F2_11'],\n",
       "      dtype='object')"
      ]
     },
     "execution_count": 30,
     "metadata": {},
     "output_type": "execute_result"
    }
   ],
   "source": [
    "health.columns"
   ]
  },
  {
   "cell_type": "code",
   "execution_count": 34,
   "id": "6597492b",
   "metadata": {},
   "outputs": [
    {
     "data": {
      "text/html": [
       "<div>\n",
       "<style scoped>\n",
       "    .dataframe tbody tr th:only-of-type {\n",
       "        vertical-align: middle;\n",
       "    }\n",
       "\n",
       "    .dataframe tbody tr th {\n",
       "        vertical-align: top;\n",
       "    }\n",
       "\n",
       "    .dataframe thead th {\n",
       "        text-align: right;\n",
       "    }\n",
       "</style>\n",
       "<table border=\"1\" class=\"dataframe\">\n",
       "  <thead>\n",
       "    <tr style=\"text-align: right;\">\n",
       "      <th></th>\n",
       "      <th>ID</th>\n",
       "      <th>F1</th>\n",
       "      <th>F5</th>\n",
       "      <th>F2</th>\n",
       "      <th>F1_1</th>\n",
       "      <th>F2_1</th>\n",
       "      <th>F6</th>\n",
       "      <th>F4</th>\n",
       "      <th>F3</th>\n",
       "      <th>F5_1</th>\n",
       "      <th>...</th>\n",
       "      <th>new_F2</th>\n",
       "      <th>new_F5</th>\n",
       "      <th>new_F1</th>\n",
       "      <th>new_F1_1</th>\n",
       "      <th>new_F2_1</th>\n",
       "      <th>new_F4</th>\n",
       "      <th>new_F3</th>\n",
       "      <th>new_F5_1</th>\n",
       "      <th>new_F1_2</th>\n",
       "      <th>new_F1_3</th>\n",
       "    </tr>\n",
       "  </thead>\n",
       "  <tbody>\n",
       "    <tr>\n",
       "      <th>0</th>\n",
       "      <td>1</td>\n",
       "      <td>Somewhat Agree</td>\n",
       "      <td>Somewhat Disagree</td>\n",
       "      <td>Somewhat Agree</td>\n",
       "      <td>Somewhat Agree</td>\n",
       "      <td>Somewhat Agree</td>\n",
       "      <td>Somewhat Disagree</td>\n",
       "      <td>Somewhat Agree</td>\n",
       "      <td>Somewhat Agree</td>\n",
       "      <td>Somewhat Agree</td>\n",
       "      <td>...</td>\n",
       "      <td>4</td>\n",
       "      <td>2</td>\n",
       "      <td>4</td>\n",
       "      <td>4</td>\n",
       "      <td>4</td>\n",
       "      <td>4</td>\n",
       "      <td>4</td>\n",
       "      <td>4</td>\n",
       "      <td>4</td>\n",
       "      <td>4</td>\n",
       "    </tr>\n",
       "    <tr>\n",
       "      <th>1</th>\n",
       "      <td>2</td>\n",
       "      <td>Somewhat Agree</td>\n",
       "      <td>Somewhat Disagree</td>\n",
       "      <td>Somewhat Agree</td>\n",
       "      <td>Somewhat Agree</td>\n",
       "      <td>Somewhat Agree</td>\n",
       "      <td>Somewhat Disagree</td>\n",
       "      <td>Somewhat Agree</td>\n",
       "      <td>Neither Agree nor Disagree</td>\n",
       "      <td>Neither Agree nor Disagree</td>\n",
       "      <td>...</td>\n",
       "      <td>4</td>\n",
       "      <td>2</td>\n",
       "      <td>4</td>\n",
       "      <td>4</td>\n",
       "      <td>4</td>\n",
       "      <td>4</td>\n",
       "      <td>3</td>\n",
       "      <td>3</td>\n",
       "      <td>4</td>\n",
       "      <td>4</td>\n",
       "    </tr>\n",
       "  </tbody>\n",
       "</table>\n",
       "<p>2 rows × 55 columns</p>\n",
       "</div>"
      ],
      "text/plain": [
       "   ID              F1                 F5              F2            F1_1  \\\n",
       "0   1  Somewhat Agree  Somewhat Disagree  Somewhat Agree  Somewhat Agree   \n",
       "1   2  Somewhat Agree  Somewhat Disagree  Somewhat Agree  Somewhat Agree   \n",
       "\n",
       "             F2_1                 F6              F4  \\\n",
       "0  Somewhat Agree  Somewhat Disagree  Somewhat Agree   \n",
       "1  Somewhat Agree  Somewhat Disagree  Somewhat Agree   \n",
       "\n",
       "                           F3                        F5_1  ... new_F2 new_F5  \\\n",
       "0              Somewhat Agree              Somewhat Agree  ...      4      2   \n",
       "1  Neither Agree nor Disagree  Neither Agree nor Disagree  ...      4      2   \n",
       "\n",
       "  new_F1 new_F1_1 new_F2_1 new_F4 new_F3 new_F5_1 new_F1_2 new_F1_3  \n",
       "0      4        4        4      4      4        4        4        4  \n",
       "1      4        4        4      4      3        3        4        4  \n",
       "\n",
       "[2 rows x 55 columns]"
      ]
     },
     "execution_count": 34,
     "metadata": {},
     "output_type": "execute_result"
    }
   ],
   "source": [
    "# Your code here\n",
    "health_recode = (health\n",
    "    >> mutate(new_F2 = X.F2.map(recode).astype('Int64'),\n",
    "              new_F5 = X.F5.map(recode).astype('Int64'),\n",
    "              new_F1 = X.F1.map(recode).astype('Int64'),\n",
    "              new_F1_1 = X.F1_1.map(recode).astype('Int64'),\n",
    "              new_F2_1 = X.F2_1.map(recode).astype('Int64'),\n",
    "              new_F4 = X.F4.map(recode).astype('Int64'),\n",
    "              new_F3 = X.F3.map(recode).astype('Int64'),\n",
    "              new_F5_1 = X.F5_1.map(recode).astype('Int64'),\n",
    "              new_F1_2 = X.F1_2.map(recode).astype('Int64'),\n",
    "              new_F1_3 = X.F1_3.map(recode).astype('Int64'),)\n",
    "\n",
    ")\n",
    "health_recode.head(2)"
   ]
  },
  {
   "cell_type": "markdown",
   "id": "96b6a5d8",
   "metadata": {},
   "source": [
    "2.  Explain,\n",
    "\n",
    "    1.  in vivid detail, exactly how annoying it would be to continue\n",
    "        this process.\n",
    "\n",
    "    "
   ]
  },
  {
   "cell_type": "markdown",
   "id": "ac60edf0",
   "metadata": {},
   "source": [
    "> It is very repetitive and annoying to redo every single column."
   ]
  },
  {
   "cell_type": "markdown",
   "id": "6e48993e",
   "metadata": {},
   "source": [
    "    B.  how this might be prone to buggy code."
   ]
  },
  {
   "cell_type": "markdown",
   "id": "9788e2cf",
   "metadata": {},
   "source": [
    "> could mistype at anytime"
   ]
  },
  {
   "cell_type": "markdown",
   "id": "5efe9615",
   "metadata": {},
   "source": [
    "#### Method 2 – dictionary unpacking. \n",
    "\n",
    "Recall that we cleaned up repeated,\n",
    "similar transformations in [Lecture 3.5](https://github.com/wsu-stat489/module3_more_about_mutate/blob/main/3_5_DRY_and_many_transformations.ipynb). Let’s apply that approach here.\n",
    "\n",
    "1.  Get a `list` of all the questions columns, e.g., using `dfply.columns_from`."
   ]
  },
  {
   "cell_type": "code",
   "execution_count": 38,
   "id": "c3983cf0",
   "metadata": {},
   "outputs": [
    {
     "data": {
      "text/plain": [
       "['F1', 'F5', 'F2', 'F1_1', 'F2_1']"
      ]
     },
     "execution_count": 38,
     "metadata": {},
     "output_type": "execute_result"
    }
   ],
   "source": [
    "# Your code here\n",
    "columns_to_recode = columns_from('F1').evaluate(health)\n",
    "columns_to_recode[0:5]"
   ]
  },
  {
   "cell_type": "markdown",
   "id": "101809bb",
   "metadata": {},
   "source": [
    "2.  Pick one of the columns and write the expression to transform that\n",
    "    column. Be sure to use the `df[\"col_string\"]` method of referencing\n",
    "    the column."
   ]
  },
  {
   "cell_type": "code",
   "execution_count": 40,
   "id": "2d6db866",
   "metadata": {},
   "outputs": [
    {
     "data": {
      "text/plain": [
       "0    4\n",
       "1    4\n",
       "Name: F1, dtype: Int64"
      ]
     },
     "execution_count": 40,
     "metadata": {},
     "output_type": "execute_result"
    }
   ],
   "source": [
    "# Your code here\n",
    "health['F1'].map(recode).astype('Int64').head(2)"
   ]
  },
  {
   "cell_type": "markdown",
   "id": "6d6527a9",
   "metadata": {},
   "source": [
    "3.  Create a variable to hold this column string. Replace the hard coded\n",
    "    column name with a variable. Rerun to test.  "
   ]
  },
  {
   "cell_type": "code",
   "execution_count": 42,
   "id": "d311e7bd",
   "metadata": {},
   "outputs": [
    {
     "data": {
      "text/plain": [
       "0    4\n",
       "1    4\n",
       "Name: F1, dtype: Int64"
      ]
     },
     "execution_count": 42,
     "metadata": {},
     "output_type": "execute_result"
    }
   ],
   "source": [
    "# Your code here\n",
    "c= 'F1'\n",
    "health[c].map(recode).astype('Int64').head(2)"
   ]
  },
  {
   "cell_type": "markdown",
   "id": "303aaf80",
   "metadata": {},
   "source": [
    "4.  Convert the single expression to a `dict` using a comprehension\n",
    "    that iterates over all column names. We want the keys to the be the\n",
    "    column names and values the resulting recoded columns.  Rerun to\n",
    "    test. Clean up the code by packaging the complexity in `lambda` functions."
   ]
  },
  {
   "cell_type": "code",
   "execution_count": 44,
   "id": "abdef127",
   "metadata": {},
   "outputs": [
    {
     "data": {
      "text/plain": [
       "{'F1': 0    4\n",
       " 1    4\n",
       " Name: F1, dtype: Int64,\n",
       " 'F5': 0    2\n",
       " 1    2\n",
       " Name: F5, dtype: Int64,\n",
       " 'F2': 0    4\n",
       " 1    4\n",
       " Name: F2, dtype: Int64,\n",
       " 'F1_1': 0    4\n",
       " 1    4\n",
       " Name: F1_1, dtype: Int64,\n",
       " 'F2_1': 0    4\n",
       " 1    4\n",
       " Name: F2_1, dtype: Int64,\n",
       " 'F6': 0    2\n",
       " 1    2\n",
       " Name: F6, dtype: Int64,\n",
       " 'F4': 0    4\n",
       " 1    4\n",
       " Name: F4, dtype: Int64,\n",
       " 'F3': 0    4\n",
       " 1    3\n",
       " Name: F3, dtype: Int64,\n",
       " 'F5_1': 0    4\n",
       " 1    3\n",
       " Name: F5_1, dtype: Int64,\n",
       " 'F1_2': 0    4\n",
       " 1    4\n",
       " Name: F1_2, dtype: Int64,\n",
       " 'F2_2': 0    4\n",
       " 1    3\n",
       " Name: F2_2, dtype: Int64,\n",
       " 'F6_1': 0    4\n",
       " 1    4\n",
       " Name: F6_1, dtype: Int64,\n",
       " 'F2_3': 0    4\n",
       " 1    4\n",
       " Name: F2_3, dtype: Int64,\n",
       " 'F4_1': 0    4\n",
       " 1    3\n",
       " Name: F4_1, dtype: Int64,\n",
       " 'F2_4': 0    4\n",
       " 1    4\n",
       " Name: F2_4, dtype: Int64,\n",
       " 'F5_2': 0    4\n",
       " 1    4\n",
       " Name: F5_2, dtype: Int64,\n",
       " 'F2_5': 0    4\n",
       " 1    4\n",
       " Name: F2_5, dtype: Int64,\n",
       " 'F6_2': 0    4\n",
       " 1    4\n",
       " Name: F6_2, dtype: Int64,\n",
       " 'F1_3': 0    4\n",
       " 1    4\n",
       " Name: F1_3, dtype: Int64,\n",
       " 'F2_6': 0    4\n",
       " 1    4\n",
       " Name: F2_6, dtype: Int64,\n",
       " 'F5_3': 0    4\n",
       " 1    4\n",
       " Name: F5_3, dtype: Int64,\n",
       " 'F4_2': 0    4\n",
       " 1    4\n",
       " Name: F4_2, dtype: Int64,\n",
       " 'F2_7': 0    4\n",
       " 1    4\n",
       " Name: F2_7, dtype: Int64,\n",
       " 'F3_1': 0    2\n",
       " 1    3\n",
       " Name: F3_1, dtype: Int64,\n",
       " 'F2_8': 0    4\n",
       " 1    4\n",
       " Name: F2_8, dtype: Int64,\n",
       " 'F5_4': 0    4\n",
       " 1    3\n",
       " Name: F5_4, dtype: Int64,\n",
       " 'F3_2': 0    4\n",
       " 1    3\n",
       " Name: F3_2, dtype: Int64,\n",
       " 'F1_4': 0    3\n",
       " 1    4\n",
       " Name: F1_4, dtype: Int64,\n",
       " 'F3_3': 0    4\n",
       " 1    3\n",
       " Name: F3_3, dtype: Int64,\n",
       " 'F1_5': 0    4\n",
       " 1    3\n",
       " Name: F1_5, dtype: Int64,\n",
       " 'F5_5': 0    2\n",
       " 1    3\n",
       " Name: F5_5, dtype: Int64,\n",
       " 'F6_3': 0    2\n",
       " 1    2\n",
       " Name: F6_3, dtype: Int64,\n",
       " 'F1_6': 0    4\n",
       " 1    4\n",
       " Name: F1_6, dtype: Int64,\n",
       " 'F5_6': 0    4\n",
       " 1    2\n",
       " Name: F5_6, dtype: Int64,\n",
       " 'F2_9': 0    4\n",
       " 1    4\n",
       " Name: F2_9, dtype: Int64,\n",
       " 'F3_4': 0    2\n",
       " 1    4\n",
       " Name: F3_4, dtype: Int64,\n",
       " 'F4_3': 0    3\n",
       " 1    3\n",
       " Name: F4_3, dtype: Int64,\n",
       " 'F2_10': 0    4\n",
       " 1    4\n",
       " Name: F2_10, dtype: Int64,\n",
       " 'F1_7': 0    4\n",
       " 1    4\n",
       " Name: F1_7, dtype: Int64,\n",
       " 'F6_4': 0    4\n",
       " 1    2\n",
       " Name: F6_4, dtype: Int64,\n",
       " 'F4_4': 0    4\n",
       " 1    3\n",
       " Name: F4_4, dtype: Int64,\n",
       " 'F5_7': 0    4\n",
       " 1    4\n",
       " Name: F5_7, dtype: Int64,\n",
       " 'F3_5': 0    4\n",
       " 1    3\n",
       " Name: F3_5, dtype: Int64,\n",
       " 'F2_11': 0    4\n",
       " 1    4\n",
       " Name: F2_11, dtype: Int64}"
      ]
     },
     "execution_count": 44,
     "metadata": {},
     "output_type": "execute_result"
    }
   ],
   "source": [
    "reg_recode = {c: (health[c]\n",
    "                    .map(recode)\n",
    "                    .astype('Int64')\n",
    "                    .head(2))\n",
    "                for c in columns_to_recode}\n",
    "reg_recode"
   ]
  },
  {
   "cell_type": "markdown",
   "id": "30254687",
   "metadata": {},
   "source": [
    "5.  Use our dictionary in a mutate using `**` unpacking.  "
   ]
  },
  {
   "cell_type": "code",
   "execution_count": 45,
   "id": "36277292",
   "metadata": {},
   "outputs": [
    {
     "data": {
      "text/html": [
       "<div>\n",
       "<style scoped>\n",
       "    .dataframe tbody tr th:only-of-type {\n",
       "        vertical-align: middle;\n",
       "    }\n",
       "\n",
       "    .dataframe tbody tr th {\n",
       "        vertical-align: top;\n",
       "    }\n",
       "\n",
       "    .dataframe thead th {\n",
       "        text-align: right;\n",
       "    }\n",
       "</style>\n",
       "<table border=\"1\" class=\"dataframe\">\n",
       "  <thead>\n",
       "    <tr style=\"text-align: right;\">\n",
       "      <th></th>\n",
       "      <th>ID</th>\n",
       "      <th>F1</th>\n",
       "      <th>F5</th>\n",
       "      <th>F2</th>\n",
       "      <th>F1_1</th>\n",
       "      <th>F2_1</th>\n",
       "      <th>F6</th>\n",
       "      <th>F4</th>\n",
       "      <th>F3</th>\n",
       "      <th>F5_1</th>\n",
       "      <th>...</th>\n",
       "      <th>F2_9</th>\n",
       "      <th>F3_4</th>\n",
       "      <th>F4_3</th>\n",
       "      <th>F2_10</th>\n",
       "      <th>F1_7</th>\n",
       "      <th>F6_4</th>\n",
       "      <th>F4_4</th>\n",
       "      <th>F5_7</th>\n",
       "      <th>F3_5</th>\n",
       "      <th>F2_11</th>\n",
       "    </tr>\n",
       "  </thead>\n",
       "  <tbody>\n",
       "    <tr>\n",
       "      <th>0</th>\n",
       "      <td>1</td>\n",
       "      <td>4</td>\n",
       "      <td>2</td>\n",
       "      <td>4</td>\n",
       "      <td>4</td>\n",
       "      <td>4</td>\n",
       "      <td>2</td>\n",
       "      <td>4</td>\n",
       "      <td>4</td>\n",
       "      <td>4</td>\n",
       "      <td>...</td>\n",
       "      <td>4</td>\n",
       "      <td>2</td>\n",
       "      <td>3</td>\n",
       "      <td>4</td>\n",
       "      <td>4</td>\n",
       "      <td>4</td>\n",
       "      <td>4</td>\n",
       "      <td>4</td>\n",
       "      <td>4</td>\n",
       "      <td>4</td>\n",
       "    </tr>\n",
       "    <tr>\n",
       "      <th>1</th>\n",
       "      <td>2</td>\n",
       "      <td>4</td>\n",
       "      <td>2</td>\n",
       "      <td>4</td>\n",
       "      <td>4</td>\n",
       "      <td>4</td>\n",
       "      <td>2</td>\n",
       "      <td>4</td>\n",
       "      <td>3</td>\n",
       "      <td>3</td>\n",
       "      <td>...</td>\n",
       "      <td>4</td>\n",
       "      <td>4</td>\n",
       "      <td>3</td>\n",
       "      <td>4</td>\n",
       "      <td>4</td>\n",
       "      <td>2</td>\n",
       "      <td>3</td>\n",
       "      <td>4</td>\n",
       "      <td>3</td>\n",
       "      <td>4</td>\n",
       "    </tr>\n",
       "  </tbody>\n",
       "</table>\n",
       "<p>2 rows × 45 columns</p>\n",
       "</div>"
      ],
      "text/plain": [
       "   ID  F1  F5  F2  F1_1  F2_1  F6  F4  F3  F5_1  ...  F2_9  F3_4  F4_3  F2_10  \\\n",
       "0   1   4   2   4     4     4   2   4   4     4  ...     4     2     3      4   \n",
       "1   2   4   2   4     4     4   2   4   3     3  ...     4     4     3      4   \n",
       "\n",
       "   F1_7  F6_4  F4_4  F5_7  F3_5  F2_11  \n",
       "0     4     4     4     4     4      4  \n",
       "1     4     2     3     4     3      4  \n",
       "\n",
       "[2 rows x 45 columns]"
      ]
     },
     "execution_count": 45,
     "metadata": {},
     "output_type": "execute_result"
    }
   ],
   "source": [
    "# Your code here\n",
    "(health\n",
    " >> mutate(**reg_recode)\n",
    " >>head(2)\n",
    ")"
   ]
  },
  {
   "cell_type": "markdown",
   "id": "53c66325",
   "metadata": {},
   "source": [
    "#### Method 3 – Stack Transform Unstack. \n",
    "\n",
    "Another method for applying the\n",
    "same transformation to multiple columns is to (A) stack all the columns\n",
    "that need transformation, (B) applying the transformation to the stacked\n",
    "values column, and (C) unstacking the data back into the original shape.\n",
    "This is the approach you will apply in **Part 2**."
   ]
  },
  {
   "cell_type": "markdown",
   "id": "bca4ee74",
   "metadata": {},
   "source": [
    "## Part 2 – Performing data preparation\n",
    "\n",
    "Dr. Bergen, Director of the Statistical Consulting Center at WSU, needs\n",
    "you to prepare the attached data for analysis. The file\n",
    "**health_survey.csv** contains the responses to a series of\n",
    "health-related questions and we need to recode the responses as 1-5\n",
    "using the definition below. It is important to note that the clients\n",
    "consider “Strongly Agree” the best answer for most of the questions\n",
    "coded and want it mapped to 5, but there are a handful of questions for\n",
    "which they want the mapping reversed as “Strongly Disagree” the\n",
    "preferred answer. The two types of codings are illustrated in the table\n",
    "shown below and the list of questions that should receive the reverse\n",
    "coding are available in the file **ReverseCodingItems.csv**.\n",
    "\n",
    "| Old Label                    | Regular Coded Value | Reverse Coding |\n",
    "|------------------------------|---------------------|----------------|\n",
    "| “Strongly Disagree”          | 1                   | 5              |\n",
    "| “Somewhat Disagree”          | 2                   | 4              |\n",
    "| “Neither Agree nor Disagree” | 3                   | 3              |\n",
    "| “Somewhat Agree”             | 4                   | 2              |\n",
    "| “Strongly Agree”             | 5                   | 1              |\n",
    "\n",
    "**Note.** I have prototyped this process in JMP and have provided screenshots of the resulting tables as a guide."
   ]
  },
  {
   "cell_type": "markdown",
   "id": "5031bd40",
   "metadata": {},
   "source": [
    "1.  Read in the `ReverseCodingItems.csv` file.  Note that the names in the `\"Column Name\"` column contain `\".\"`s.  Fix this, then look at the questions that need reverse coding and explain why it makes sense to reverse the coding on these items."
   ]
  },
  {
   "cell_type": "markdown",
   "id": "ef8feb5c",
   "metadata": {},
   "source": [
    "<font color=\"blue\"> *Your thoughts here* </font>"
   ]
  },
  {
   "cell_type": "markdown",
   "id": "2d8220bf",
   "metadata": {},
   "source": [
    "2. Next, you will perform the data preparation by completing each of\n",
    "    the tasks listed below.  First, *Stack* the response columns.\n",
    "\n",
    "<img src=\"img/media/image1.png\" style=\"width:2.91924in;height:1.85212in\" alt=\"../../../../Desktop/Screen%20Shot%202018-03-22%20at%201.30.46%20\" />\n",
    "\n",
    "Work in a pipe and add a temporary `head` at the end."
   ]
  },
  {
   "cell_type": "code",
   "execution_count": null,
   "id": "745aa139",
   "metadata": {},
   "outputs": [],
   "source": [
    "# Your code here"
   ]
  },
  {
   "cell_type": "markdown",
   "id": "73bd43b9",
   "metadata": {},
   "source": [
    "3.  Make a new column called *Needs Reverse* by joining on\n",
    "    the `\"Yes\"` or `\"No\"` values from the *Needs Reverse Coding?* from **ReverseCodingItems.csv.**\n",
    "\n",
    "> <img src=\"img/media/image2.png\"\n",
    "> style=\"width:3.78315in;\"\n",
    "> alt=\"../../../../Desktop/Screen%20Shot%202018-03-22%20at%201.35.26%20\" />\n",
    "\n",
    "Start by copying and adding to the pipe from the previous cell. In practice, you would continue to work in the same cell, but we are illustrating the standard best practice in working with data, by continually cycling through the following steps\n",
    "\n",
    "1. Add the next step\n",
    "2. Rerun your code to test.\n",
    "\n",
    "I want to verify that you are following this practice, which is why we will be copying our previous code to the next step"
   ]
  },
  {
   "cell_type": "code",
   "execution_count": null,
   "id": "18d5c460",
   "metadata": {},
   "outputs": [],
   "source": [
    "# Copy your last pipe and edit the code here"
   ]
  },
  {
   "cell_type": "markdown",
   "id": "e878fabe",
   "metadata": {},
   "source": [
    "4.   We already created a `dict` for the regular coding.  Make a `dict` for the reverse coding using a `dict` comprehension.  Remember to use the `items` method and two names to iterate through the original `dict`.  Use subtraction."
   ]
  },
  {
   "cell_type": "code",
   "execution_count": null,
   "id": "57043a0f",
   "metadata": {},
   "outputs": [],
   "source": [
    "# Copy your last pipe and edit the code here"
   ]
  },
  {
   "cell_type": "markdown",
   "id": "c40fe52e",
   "metadata": {},
   "source": [
    "5.   Next we need to make a column with the question type.  For example, all questions that start with `F1`, like `F1` and `F1_1`, need to be coded as `F1`.  Add a `mutate` to create this column using one of the string transformations (extract, split, etc.) from this module.\n",
    "\n",
    "> <img src=\"img/media/image6.png\"\n",
    "> style=\"width:2.97769in;\"\n",
    "> alt=\"../../../../Desktop/Screen%20Shot%202018-03-22%20at%201.45.03%20\" />"
   ]
  },
  {
   "cell_type": "code",
   "execution_count": null,
   "id": "9dc77f04",
   "metadata": {},
   "outputs": [],
   "source": [
    "# Copy your last pipe and edit the code here"
   ]
  },
  {
   "cell_type": "markdown",
   "id": "b02d27e4",
   "metadata": {},
   "source": [
    "6.  Make a new column by *Recoding* the Question Types to *F1, F2, …,\n",
    "    F6.* based on the `Question Type`. **Hint:** You might want to use the `dfply.ifelse`.\n",
    "\n",
    "> <img src=\"img/media/image6.png\"\n",
    "> style=\"width:2.97769in;\"\n",
    "> alt=\"../../../../Desktop/Screen%20Shot%202018-03-22%20at%201.45.03%20\" />"
   ]
  },
  {
   "cell_type": "code",
   "execution_count": null,
   "id": "3f8be6d9",
   "metadata": {},
   "outputs": [],
   "source": [
    "# Copy your last pipe and edit the code here"
   ]
  },
  {
   "cell_type": "markdown",
   "id": "1c998706",
   "metadata": {},
   "source": [
    "7.  *Aggregate* and *unstack.*\n",
    "\n",
    "> <img src=\"img/media/image7.png\"\n",
    "> style=\"width:2.46321in;\"\n",
    "> alt=\"../../../../Desktop/Screen%20Shot%202018-03-22%20at%201.46.11%20\" />\n",
    "> <img src=\"img/media/image8.png\"\n",
    "> style=\"width:2.96893in;\"\n",
    "> alt=\"../../../../Desktop/Screen%20Shot%202018-03-22%20at%201.46.34%20\" />"
   ]
  },
  {
   "cell_type": "code",
   "execution_count": null,
   "id": "8a446e35",
   "metadata": {},
   "outputs": [],
   "source": [
    "# Copy your last pipe and edit the code here"
   ]
  },
  {
   "cell_type": "markdown",
   "id": "38ede7e9",
   "metadata": {},
   "source": [
    "8.  Save the table to a csv file in the `data` folder."
   ]
  },
  {
   "cell_type": "code",
   "execution_count": null,
   "id": "f9fcfa43",
   "metadata": {},
   "outputs": [],
   "source": [
    "# Your code here"
   ]
  },
  {
   "cell_type": "markdown",
   "id": "cfe52c47",
   "metadata": {},
   "source": [
    "**Deliverables.** Submit this document with your answer to question 1,\n",
    "the JMP file containing the results of Part 1, and a csv file with your\n",
    "final table."
   ]
  }
 ],
 "metadata": {
  "kernelspec": {
   "display_name": "Python 3.9.12 64-bit ('base')",
   "language": "python",
   "name": "python3"
  },
  "language_info": {
   "codemirror_mode": {
    "name": "ipython",
    "version": 3
   },
   "file_extension": ".py",
   "mimetype": "text/x-python",
   "name": "python",
   "nbconvert_exporter": "python",
   "pygments_lexer": "ipython3",
   "version": "3.9.12"
  },
  "vscode": {
   "interpreter": {
    "hash": "4f3b02e4c36ae10a95ce2089df78df02ee7725d6d44042c13cca888e72f49ed2"
   }
  }
 },
 "nbformat": 4,
 "nbformat_minor": 5
}
